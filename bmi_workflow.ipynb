{
 "cells": [
  {
   "cell_type": "code",
   "execution_count": 26,
   "id": "57637f38",
   "metadata": {},
   "outputs": [],
   "source": [
    "from langgraph.graph import StateGraph,START,END\n",
    "from typing import TypedDict"
   ]
  },
  {
   "cell_type": "code",
   "execution_count": 34,
   "id": "d293ee6f",
   "metadata": {},
   "outputs": [],
   "source": [
    "#define state \n",
    "class BMI_State(TypedDict):\n",
    "    weight_kg : float\n",
    "    height_m : float \n",
    "    bmi : float\n",
    "    category : str\n"
   ]
  },
  {
   "cell_type": "code",
   "execution_count": 35,
   "id": "b9c5c575",
   "metadata": {},
   "outputs": [],
   "source": [
    "def calcualte_bmi(state:BMI_State)->BMI_State:\n",
    "    weight = state['weight_kg']\n",
    "    height = state['height_m']\n",
    "    \n",
    "    bmi = weight/(height**2)\n",
    "\n",
    "    state['bmi'] = round(bmi,2)\n",
    "    return state\n",
    "\n",
    "def label_bmi(state:BMI_State)->BMI_State:\n",
    "    bmi = state['bmi']\n",
    "\n",
    "    if bmi < 18.5 :\n",
    "        state['category'] = 'underweight'\n",
    "    elif 18.5 <= bmi < 25 :\n",
    "        state['category'] = 'normal'\n",
    "    elif 25 <= bmi < 30 :\n",
    "        state['category'] = 'overweight'\n",
    "    else:\n",
    "        state['category'] = 'obease'\n",
    "    return state\n"
   ]
  },
  {
   "cell_type": "code",
   "execution_count": 36,
   "id": "68cecf74",
   "metadata": {},
   "outputs": [],
   "source": [
    "# define graph \n",
    "graph = StateGraph(BMI_State)\n",
    "\n",
    "# create a node \n",
    "graph.add_node('calcualte_bmi',calcualte_bmi)\n",
    "graph.add_node('label_bmi',label_bmi)\n",
    "\n",
    "\n",
    "# create edges \n",
    "\n",
    "graph.add_edge(START,'calcualte_bmi')\n",
    "graph.add_edge('calcualte_bmi','label_bmi')\n",
    "graph.add_edge('label_bmi',END)\n",
    "\n",
    "# complile the graph \n",
    "workflow = graph.compile()"
   ]
  },
  {
   "cell_type": "code",
   "execution_count": 37,
   "id": "42c49e35",
   "metadata": {},
   "outputs": [
    {
     "name": "stdout",
     "output_type": "stream",
     "text": [
      "{'weight_kg': 80, 'height_m': 1.75, 'bmi': 26.12, 'category': 'overweight'}\n"
     ]
    }
   ],
   "source": [
    "# execute the graph\n",
    "intial_state = {'weight_kg':80 , 'height_m':1.75}\n",
    "final_state = workflow.invoke(intial_state)\n",
    "\n",
    "print(final_state)"
   ]
  },
  {
   "cell_type": "code",
   "execution_count": null,
   "id": "397c264a",
   "metadata": {},
   "outputs": [],
   "source": []
  },
  {
   "cell_type": "code",
   "execution_count": 31,
   "id": "83a26a9f",
   "metadata": {},
   "outputs": [
    {
     "data": {
      "image/png": "[encoded data removed]",
      "text/plain": [
       "<IPython.core.display.Image object>"
      ]
     },
     "execution_count": 31,
     "metadata": {},
     "output_type": "execute_result"
    }
   ],
   "source": [
    "from IPython.display import Image, display\n",
    "\n",
    "Image((workflow.get_graph().draw_mermaid_png()))\n"
   ]
  },
  {
   "cell_type": "code",
   "execution_count": null,
   "id": "5cae90d7",
   "metadata": {},
   "outputs": [],
   "source": []
  },
  {
   "cell_type": "code",
   "execution_count": null,
   "id": "b68554ee",
   "metadata": {},
   "outputs": [],
   "source": []
  }
 ],
 "metadata": {
  "kernelspec": {
   "display_name": "myenv",
   "language": "python",
   "name": "python3"
  },
  "language_info": {
   "codemirror_mode": {
    "name": "ipython",
    "version": 3
   },
   "file_extension": ".py",
   "mimetype": "text/x-python",
   "name": "python",
   "nbconvert_exporter": "python",
   "pygments_lexer": "ipython3",
   "version": "3.13.5"
  }
 },
 "nbformat": 4,
 "nbformat_minor": 5
}
